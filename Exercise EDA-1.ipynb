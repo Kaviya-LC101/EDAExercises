{
 "cells": [
  {
   "cell_type": "code",
   "execution_count": 1,
   "id": "3aad2f6f",
   "metadata": {},
   "outputs": [],
   "source": [
    " import pandas as pd"
   ]
  },
  {
   "cell_type": "code",
   "execution_count": 7,
   "id": "d92ccbe9",
   "metadata": {},
   "outputs": [
    {
     "name": "stdout",
     "output_type": "stream",
     "text": [
      "The s1 series values are: [10 20 30 40 50]\n",
      "The s1 index values are: [0 1 2 3 4]\n",
      "\n",
      "\n",
      "The s_tuple series values are: ['apple' 'banana' 'cherry']\n",
      "The s_tuple index value are:  [0 1 2]\n",
      "\n",
      "\n",
      "The s_dictionary values are : ['Ford' 'Mustang' 1964]\n",
      "The s_dictionary index values are: ['brand' 'model' 'year']\n"
     ]
    }
   ],
   "source": [
    "s1 = pd.Series([10,20,30,40,50])\n",
    "s_tuple=pd.Series((\"apple\",\"banana\",\"cherry\"))\n",
    "s_dictionary=pd.Series({\"brand\": \"Ford\", \"model\": \"Mustang\", \"year\": 1964})\n",
    "print(\"The s1 series values are:\", s1.values)\n",
    "print(\"The s1 index values are:\", s1.index.values)\n",
    "print(\"\\n\")\n",
    "print(\"The s_tuple series values are:\",s_tuple.values)\n",
    "print(\"The s_tuple index value are: \",s_tuple.index.values)\n",
    "print(\"\\n\")\n",
    "print(\"The s_dictionary values are :\",s_dictionary.values)\n",
    "print(\"The s_dictionary index values are:\",s_dictionary.index.values)\n",
    "\n"
   ]
  },
  {
   "cell_type": "code",
   "execution_count": 53,
   "id": "7e8a9dc5",
   "metadata": {},
   "outputs": [
    {
     "name": "stdout",
     "output_type": "stream",
     "text": [
      "The Marks obtained by student are \n",
      " English    80\n",
      "Science    93\n",
      "Social     78\n",
      "Tamil      85\n",
      "Maths      97\n",
      "dtype: int64\n",
      "\n",
      "The Marks obtained by student are \n",
      " Subjects\n",
      "English    80\n",
      "Science    93\n",
      "Social     78\n",
      "Tamil      85\n",
      "Maths      97\n",
      "Name: Students Marks, dtype: int64\n"
     ]
    }
   ],
   "source": [
    "s2 = pd.Series([80,93,78,85,97], index=['English','Science','Social','Tamil','Maths'])\n",
    "print(\"The Marks obtained by student are \\n\", s2)\n",
    "\n",
    "#assign the s2 series name to be \"Student Marks\"\n",
    "s2.name=\"Students Marks\"\n",
    "\n",
    "#assign the s2 index name to be \"Subject\"\n",
    "s2.index.name=\"Subjects\"\n",
    "print(\"\\nThe Marks obtained by student are \\n\", s2)"
   ]
  },
  {
   "cell_type": "code",
   "execution_count": 9,
   "id": "2a298539",
   "metadata": {},
   "outputs": [
    {
     "data": {
      "text/plain": [
       "1    20\n",
       "2    30\n",
       "3    40\n",
       "dtype: int64"
      ]
     },
     "execution_count": 9,
     "metadata": {},
     "output_type": "execute_result"
    }
   ],
   "source": [
    "# slicing using default integer index\n",
    "# return the elements starting at position one and ending with the element at index 3\n",
    "s1[1:4]"
   ]
  },
  {
   "cell_type": "code",
   "execution_count": 11,
   "id": "11ab94e6",
   "metadata": {},
   "outputs": [
    {
     "data": {
      "text/plain": [
       "85"
      ]
     },
     "execution_count": 11,
     "metadata": {},
     "output_type": "execute_result"
    }
   ],
   "source": [
    "# Slicing using string index\n",
    "s2['Tamil']"
   ]
  },
  {
   "cell_type": "code",
   "execution_count": 12,
   "id": "0c21fa93",
   "metadata": {},
   "outputs": [
    {
     "data": {
      "text/plain": [
       "80"
      ]
     },
     "execution_count": 12,
     "metadata": {},
     "output_type": "execute_result"
    }
   ],
   "source": [
    "# return the first element in the s2 series\n",
    "s2[0]"
   ]
  },
  {
   "cell_type": "code",
   "execution_count": 17,
   "id": "f67d0c40",
   "metadata": {},
   "outputs": [
    {
     "name": "stdout",
     "output_type": "stream",
     "text": [
      "Fruits and Price\n",
      " Orange         80\n",
      "Apples        210\n",
      "Bananas        50\n",
      "Grapes         90\n",
      "Watermelon     70\n",
      "dtype: int64\n"
     ]
    }
   ],
   "source": [
    "# create a dictionary of fruit names and their prices. Use the values from the article\n",
    "dict_fruits = { 'Orange':80,\n",
    "          'Apples':210,\n",
    "          'Bananas':50,\n",
    "         'Grapes':90,\n",
    "         'Watermelon':70}\n",
    "# Lets convert this dictionary into a series\n",
    "fruits=pd.Series(dict_fruits)\n",
    "\n",
    "# print the series\n",
    "print(\"Fruits and Price\\n\",fruits)\n",
    "\n"
   ]
  },
  {
   "cell_type": "code",
   "execution_count": 22,
   "id": "bf3fedba",
   "metadata": {},
   "outputs": [
    {
     "name": "stdout",
     "output_type": "stream",
     "text": [
      "The price of per kg Grapes is 90\n"
     ]
    }
   ],
   "source": [
    "# Slice the series and retrieve price of grapes\n",
    "print(\"The price of per kg Grapes is\",fruits['Grapes'])"
   ]
  },
  {
   "cell_type": "code",
   "execution_count": 51,
   "id": "4cd5e22c",
   "metadata": {},
   "outputs": [
    {
     "name": "stdout",
     "output_type": "stream",
     "text": [
      "The dataframe created from series is\n",
      "          Student1\n",
      "English        80\n",
      "Science        93\n",
      "Social         78\n",
      "Tamil          85\n",
      "Maths          97\n"
     ]
    }
   ],
   "source": [
    "# create a dataframe from the s2 series\n",
    "df_marks = pd.DataFrame(s2, columns=['Student1'])\n",
    "# print the dataframe\n",
    "print(\"The dataframe created from series is\\n\",df_marks)"
   ]
  },
  {
   "cell_type": "code",
   "execution_count": 55,
   "id": "786f968e",
   "metadata": {},
   "outputs": [
    {
     "data": {
      "text/html": [
       "<div>\n",
       "<style scoped>\n",
       "    .dataframe tbody tr th:only-of-type {\n",
       "        vertical-align: middle;\n",
       "    }\n",
       "\n",
       "    .dataframe tbody tr th {\n",
       "        vertical-align: top;\n",
       "    }\n",
       "\n",
       "    .dataframe thead th {\n",
       "        text-align: right;\n",
       "    }\n",
       "</style>\n",
       "<table border=\"1\" class=\"dataframe\">\n",
       "  <thead>\n",
       "    <tr style=\"text-align: right;\">\n",
       "      <th></th>\n",
       "      <th>height</th>\n",
       "      <th>weight</th>\n",
       "    </tr>\n",
       "  </thead>\n",
       "  <tbody>\n",
       "    <tr>\n",
       "      <th>Person 1</th>\n",
       "      <td>5.3</td>\n",
       "      <td>65</td>\n",
       "    </tr>\n",
       "    <tr>\n",
       "      <th>Person 2</th>\n",
       "      <td>6.2</td>\n",
       "      <td>89</td>\n",
       "    </tr>\n",
       "    <tr>\n",
       "      <th>Person 3</th>\n",
       "      <td>5.8</td>\n",
       "      <td>75</td>\n",
       "    </tr>\n",
       "    <tr>\n",
       "      <th>Person 4</th>\n",
       "      <td>5.0</td>\n",
       "      <td>60</td>\n",
       "    </tr>\n",
       "    <tr>\n",
       "      <th>Person 5</th>\n",
       "      <td>5.5</td>\n",
       "      <td>59</td>\n",
       "    </tr>\n",
       "  </tbody>\n",
       "</table>\n",
       "</div>"
      ],
      "text/plain": [
       "          height  weight\n",
       "Person 1     5.3      65\n",
       "Person 2     6.2      89\n",
       "Person 3     5.8      75\n",
       "Person 4     5.0      60\n",
       "Person 5     5.5      59"
      ]
     },
     "execution_count": 55,
     "metadata": {},
     "output_type": "execute_result"
    }
   ],
   "source": [
    "# Create height series using [5.3, 6.2,5.8,5.0,5.5] for values, ['Person 1','Person 2','Person 3','Person 4','Person 5'] for indexes\n",
    "height=pd.Series([5.3, 6.2,5.8,5.0,5.5],index=['Person 1','Person 2','Person 3','Person 4','Person 5'])\n",
    "\n",
    "# Create weight series (in kgs) using [65,89,75,60,59] for values and the same indexes as height\n",
    "weight=pd.Series([65,89,75,60,59],index=['Person 1','Person 2','Person 3','Person 4','Person 5'])\n",
    "\n",
    "#Create a dataframe from the height and weight series above\n",
    "df_person=pd.DataFrame({'height':height,'weight':weight})\n",
    "df_person"
   ]
  },
  {
   "cell_type": "code",
   "execution_count": null,
   "id": "5dce7471",
   "metadata": {},
   "outputs": [],
   "source": []
  }
 ],
 "metadata": {
  "kernelspec": {
   "display_name": "Python 3 (ipykernel)",
   "language": "python",
   "name": "python3"
  },
  "language_info": {
   "codemirror_mode": {
    "name": "ipython",
    "version": 3
   },
   "file_extension": ".py",
   "mimetype": "text/x-python",
   "name": "python",
   "nbconvert_exporter": "python",
   "pygments_lexer": "ipython3",
   "version": "3.9.7"
  }
 },
 "nbformat": 4,
 "nbformat_minor": 5
}
